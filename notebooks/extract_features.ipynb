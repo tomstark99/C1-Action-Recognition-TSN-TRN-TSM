{
 "cells": [
  {
   "cell_type": "code",
   "execution_count": 7,
   "metadata": {},
   "outputs": [],
   "source": [
    "from abc import ABC\n",
    "\n",
    "from gulpio2 import GulpDirectory\n",
    "from pathlib import Path\n",
    "from moviepy.editor import ImageSequenceClip, clips_array\n",
    "\n",
    "from collections import defaultdict\n",
    "\n",
    "import pickle\n",
    "import pandas as pd\n",
    "from pathlib import Path\n",
    "\n",
    "import torch as t\n",
    "import torch.nn as nn\n",
    "import numpy as np\n",
    "from omegaconf import OmegaConf\n",
    "from typing import Any, Dict, List, Sequence, Union\n",
    "\n",
    "from systems import EpicActionRecognitionSystem\n",
    "from systems import EpicActionRecogintionDataModule\n",
    "\n",
    "from utils.metrics import compute_metrics\n",
    "from utils.actions import action_id_from_verb_noun\n",
    "from scipy.special import softmax\n",
    "\n",
    "from GPUtil import showUtilization as gpu_usage\n",
    "from tqdm import tqdm"
   ]
  },
  {
   "cell_type": "code",
   "execution_count": 2,
   "metadata": {},
   "outputs": [],
   "source": [
    "class FeatureWriter(ABC):\n",
    "    def append(self, narration_id: str, features: np.ndarray, labels: Dict[str, Any]) -> None:\n",
    "        raise NotImplementedError()"
   ]
  },
  {
   "cell_type": "code",
   "execution_count": 3,
   "metadata": {},
   "outputs": [],
   "source": [
    "# SETUP TORCH VARIABLES\n",
    "device = t.device(\"cuda:0\" if t.cuda.is_available() else \"cpu\")\n",
    "dtype = t.float"
   ]
  },
  {
   "cell_type": "code",
   "execution_count": 4,
   "metadata": {},
   "outputs": [],
   "source": [
    "def generate_model(path: Path):\n",
    "    # LOAD IN SAVED CHECKPOINT\n",
    "    ckpt = t.load('../models/trn_rgb.ckpt', map_location='cpu')\n",
    "\n",
    "    # CREATE CONFIG FROM CHECKPOINT\n",
    "    cfg = OmegaConf.create(ckpt['hyper_parameters'])\n",
    "    OmegaConf.set_struct(cfg, False)\n",
    "\n",
    "    # SET GULP DIRECTORY\n",
    "    cfg.data._root_gulp_dir = '/home/ts/C1-Action-Recognition-TSN-TRN-TSM/datasets/epic/gulp/rgb'\n",
    "\n",
    "    # CREATE MODEL\n",
    "    model = EpicActionRecognitionSystem(cfg)\n",
    "    model.load_state_dict(ckpt['state_dict'])\n",
    "\n",
    "# data_module = EpicActionRecogintionDataModule(cfg)\n",
    "    return model.model.to(device)\n",
    "# data = data_module.test_dataloader()\n",
    "\n",
    "# cfg.data.train_gulp_dir\n",
    "# for i, (batch_input, batch_labels) in tqdm(\n",
    "#             enumerate(data),\n",
    "#             unit=\" video\",\n",
    "#             total=len(data),\n",
    "#             dynamic_ncols=True,\n",
    "#         ):\n",
    "#     for batch in batch_input:\n",
    "#         print(batch.shape)"
   ]
  },
  {
   "cell_type": "code",
   "execution_count": 5,
   "metadata": {},
   "outputs": [],
   "source": [
    "class PickleFeatureWriter(FeatureWriter):\n",
    "    \n",
    "    def __init__(self, pkl_path: Path, features_dim: int):\n",
    "        self.pkl_path = pkl_path\n",
    "        self.features_dim = features_dim\n",
    "        self.narration_ids = []\n",
    "        self.features = []\n",
    "        self.labels = []\n",
    "        \n",
    "    def append(self, narration_id: str, features: np.ndarray, labels: Dict[str, Any]) -> None:\n",
    "#         print(features.shape)\n",
    "        assert features.shape[1] == self.features_dim\n",
    "        self.narration_ids.append(narration_id)\n",
    "        self.features.append(features)\n",
    "        self.labels.append(labels)\n",
    "        \n",
    "    def save(self):\n",
    "        with open(self.pkl_path, 'wb') as f:\n",
    "            pickle.dump({\n",
    "                'narration_id': self.narration_ids,\n",
    "                'features': np.concatenate(self.features),\n",
    "                'labels': self.labels\n",
    "            }, f)"
   ]
  },
  {
   "cell_type": "code",
   "execution_count": 6,
   "metadata": {},
   "outputs": [],
   "source": [
    "class FeatureExtractor:\n",
    "    \"\"\"\n",
    "    Extracts image features from a 2D CNN backbone for every frame in all videos.\n",
    "    \"\"\"\n",
    "    \n",
    "    def __init__(\n",
    "        self, \n",
    "        backbone_2d: nn.Module, \n",
    "        device: t.device, \n",
    "        dtype: t.float, \n",
    "        frame_batch_size: int = 128\n",
    "    ):\n",
    "        self.model = backbone_2d\n",
    "        self.device = device\n",
    "        self.dtype = dtype\n",
    "        self.frame_batch_size = frame_batch_size\n",
    "    \n",
    "    def extract(self, dataset: GulpDirectory, feature_writer: FeatureWriter) -> int:\n",
    "        total_instances = 0\n",
    "        self.model.eval()\n",
    "        for i, c in enumerate(tqdm(dataset)):\n",
    "            if i == 0:\n",
    "                for batch_input, batch_labels in c:\n",
    "        \n",
    "                    batch_input = np.array(batch_input).transpose(0,3,1,2)\n",
    "                    batch_input = t.tensor(batch_input, device=self.device, dtype=self.dtype)\n",
    "                    batch_input = batch_input.unsqueeze(0)\n",
    "\n",
    "                    batch_size, n_frames = batch_input.shape[:2]\n",
    "                    flattened_batch_input = batch_input.view((-1, *batch_input.shape[2:]))\n",
    "\n",
    "                    n_chunks = int(np.ceil(len(flattened_batch_input)/128))\n",
    "                    chunks = t.chunk(flattened_batch_input, n_chunks, dim=0)\n",
    "                    flatten_batch_features = []\n",
    "                    for chunk in chunks:\n",
    "                        chunk = chunk.unsqueeze(0)\n",
    "                        with t.no_grad():\n",
    "                            chunk_features = self.model.features(chunk.to(self.device))\n",
    "                            chunk_features = self.model.new_fc(chunk_features)\n",
    "                            flatten_batch_features.append(chunk_features.squeeze(0))\n",
    "                    flatten_batch_features = t.cat(flatten_batch_features, dim=0)\n",
    "                    batch_features = flatten_batch_features.view((batch_size, \n",
    "                                                                  n_frames, \n",
    "                                                                  *flatten_batch_features.shape[1:]))\n",
    "\n",
    "                    total_instances += batch_size\n",
    "                    self._append(batch_features, batch_labels, batch_size, feature_writer)\n",
    "        return total_instances\n",
    "\n",
    "    def _append(self, batch_features, batch_labels, batch_size, feature_writer):\n",
    "        batch_narration_id = batch_labels['narration_id']\n",
    "        assert len([batch_narration_id]) == batch_size\n",
    "        assert len([batch_labels]) == batch_size\n",
    "        assert len(batch_features) == batch_size\n",
    "        batch_features = batch_features.squeeze(0).cpu().numpy()\n",
    "#         print(batch_narration_id, \"DONE\")\n",
    "        feature_writer.append(batch_narration_id, batch_features, batch_labels)"
   ]
  },
  {
   "cell_type": "code",
   "execution_count": 46,
   "metadata": {},
   "outputs": [
    {
     "name": "stderr",
     "output_type": "stream",
     "text": [
      "\r",
      "0it [00:00, ?it/s]"
     ]
    },
    {
     "name": "stdout",
     "output_type": "stream",
     "text": [
      "Multi-Scale Temporal Relation Network Module in use ['8-frame relation', '7-frame relation', '6-frame relation', '5-frame relation', '4-frame relation', '3-frame relation', '2-frame relation']\n",
      "P01_01_0 DONE\n",
      "(195, 256)\n",
      "P01_01_1 DONE\n",
      "(109, 256)\n",
      "P01_01_10 DONE\n",
      "(75, 256)\n",
      "P01_01_100 DONE\n",
      "(68, 256)\n",
      "P01_01_101 DONE\n",
      "(45, 256)\n",
      "P01_01_102 DONE\n",
      "(54, 256)\n",
      "P01_01_103 DONE\n",
      "(120, 256)\n",
      "P01_01_104 DONE\n",
      "(46, 256)\n",
      "P01_01_105 DONE\n",
      "(45, 256)\n",
      "P01_01_106 DONE\n",
      "(70, 256)\n",
      "P01_01_107 DONE\n",
      "(72, 256)\n",
      "P01_01_108 DONE\n",
      "(59, 256)\n",
      "P01_01_109 DONE\n",
      "(58, 256)\n",
      "P01_01_11 DONE\n",
      "(127, 256)\n",
      "P01_01_110 DONE\n",
      "(197, 256)\n",
      "P01_01_111 DONE\n",
      "(108, 256)\n",
      "P01_01_112 DONE\n",
      "(136, 256)\n",
      "P01_01_113 DONE\n",
      "(107, 256)\n",
      "P01_01_114 DONE\n",
      "(75, 256)\n",
      "P01_01_115 DONE\n",
      "(76, 256)\n",
      "P01_01_116 DONE\n",
      "(56, 256)\n",
      "P01_01_117 DONE\n",
      "(54, 256)\n",
      "P01_01_118 DONE\n",
      "(399, 256)\n",
      "P01_01_12 DONE\n",
      "(67, 256)\n",
      "P01_01_120 DONE\n",
      "(57, 256)\n",
      "P01_01_121 DONE\n",
      "(63, 256)\n",
      "P01_01_122 DONE\n",
      "(97, 256)\n",
      "P01_01_123 DONE\n",
      "(46, 256)\n",
      "P01_01_124 DONE\n",
      "(66, 256)\n",
      "P01_01_125 DONE\n",
      "(232, 256)\n",
      "P01_01_126 DONE\n",
      "(73, 256)\n",
      "P01_01_127 DONE\n",
      "(85, 256)\n",
      "P01_01_128 DONE\n",
      "(45, 256)\n",
      "P01_01_129 DONE\n",
      "(276, 256)\n",
      "P01_01_13 DONE\n",
      "(47, 256)\n",
      "P01_01_130 DONE\n",
      "(112, 256)\n",
      "P01_01_131 DONE\n",
      "(751, 256)\n",
      "P01_01_132 DONE\n",
      "(514, 256)\n",
      "P01_01_133 DONE\n",
      "(627, 256)\n",
      "P01_01_134 DONE\n",
      "(2209, 256)\n",
      "P01_01_135 DONE\n",
      "(47, 256)\n",
      "P01_01_136 DONE\n",
      "(62, 256)\n",
      "P01_01_137 DONE\n",
      "(51, 256)\n",
      "P01_01_138 DONE\n",
      "(67, 256)\n",
      "P01_01_139 DONE\n",
      "(64, 256)\n",
      "P01_01_14 DONE\n",
      "(207, 256)\n",
      "P01_01_140 DONE\n",
      "(61, 256)\n",
      "P01_01_141 DONE\n",
      "(315, 256)\n",
      "P01_01_142 DONE\n",
      "(61, 256)\n",
      "P01_01_143 DONE\n",
      "(106, 256)\n",
      "P01_01_144 DONE\n",
      "(412, 256)\n",
      "P01_01_145 DONE\n",
      "(120, 256)\n",
      "P01_01_146 DONE\n",
      "(168, 256)\n",
      "P01_01_147 DONE\n",
      "(838, 256)\n",
      "P01_01_148 DONE\n",
      "(301, 256)\n",
      "P01_01_149 DONE\n",
      "(171, 256)\n",
      "P01_01_15 DONE\n",
      "(82, 256)\n",
      "P01_01_150 DONE\n",
      "(94, 256)\n",
      "P01_01_151 DONE\n",
      "(313, 256)\n",
      "P01_01_152 DONE\n",
      "(196, 256)\n",
      "P01_01_153 DONE\n",
      "(81, 256)\n",
      "P01_01_154 DONE\n",
      "(54, 256)\n",
      "P01_01_155 DONE\n",
      "(62, 256)\n",
      "P01_01_156 DONE\n",
      "(116, 256)\n",
      "P01_01_157 DONE\n",
      "(67, 256)\n",
      "P01_01_158 DONE\n",
      "(467, 256)\n",
      "P01_01_159 DONE\n",
      "(1183, 256)\n",
      "P01_01_16 DONE\n",
      "(61, 256)\n",
      "P01_01_160 DONE\n",
      "(69, 256)\n",
      "P01_01_161 DONE\n",
      "(93, 256)\n",
      "P01_01_162 DONE\n",
      "(76, 256)\n",
      "P01_01_163 DONE\n",
      "(85, 256)\n",
      "P01_01_164 DONE\n",
      "(106, 256)\n",
      "P01_01_165 DONE\n",
      "(228, 256)\n",
      "P01_01_166 DONE\n",
      "(91, 256)\n",
      "P01_01_167 DONE\n",
      "(100, 256)\n",
      "P01_01_168 DONE\n",
      "(52, 256)\n",
      "P01_01_169 DONE\n",
      "(41, 256)\n",
      "P01_01_17 DONE\n",
      "(82, 256)\n",
      "P01_01_170 DONE\n",
      "(115, 256)\n",
      "P01_01_171 DONE\n",
      "(45, 256)\n",
      "P01_01_172 DONE\n",
      "(65, 256)\n",
      "P01_01_173 DONE\n",
      "(76, 256)\n",
      "P01_01_174 DONE\n",
      "(2013, 256)\n",
      "P01_01_175 DONE\n",
      "(358, 256)\n",
      "P01_01_176 DONE\n",
      "(1821, 256)\n",
      "P01_01_177 DONE\n",
      "(81, 256)\n",
      "P01_01_178 DONE\n",
      "(72, 256)\n",
      "P01_01_179 DONE\n",
      "(167, 256)\n",
      "P01_01_18 DONE\n",
      "(151, 256)\n",
      "P01_01_180 DONE\n",
      "(91, 256)\n",
      "P01_01_181 DONE\n",
      "(103, 256)\n",
      "P01_01_182 DONE\n",
      "(366, 256)\n",
      "P01_01_183 DONE\n",
      "(79, 256)\n",
      "P01_01_184 DONE\n",
      "(57, 256)\n",
      "P01_01_185 DONE\n",
      "(333, 256)\n",
      "P01_01_186 DONE\n",
      "(1005, 256)\n",
      "P01_01_187 DONE\n",
      "(64, 256)\n",
      "P01_01_188 DONE\n",
      "(77, 256)\n"
     ]
    },
    {
     "name": "stderr",
     "output_type": "stream",
     "text": [
      "4it [03:20, 50.20s/it] "
     ]
    },
    {
     "name": "stdout",
     "output_type": "stream",
     "text": [
      "P01_01_189 DONE\n",
      "(87, 256)\n"
     ]
    },
    {
     "name": "stderr",
     "output_type": "stream",
     "text": [
      "\n"
     ]
    },
    {
     "data": {
      "text/plain": [
       "100"
      ]
     },
     "execution_count": 46,
     "metadata": {},
     "output_type": "execute_result"
    }
   ],
   "source": [
    "rgb_train = GulpDirectory('../datasets/epic/gulp/rgb/rgb_test/')\n",
    "\n",
    "feature_writer = PickleFeatureWriter('../datasets/epic/features/p01_features.pkl', features_dim=256)\n",
    "# for i, c in enumerate(rgb_train):\n",
    "#     if i == 0:\n",
    "#         for frames, meta in tqdm(c):\n",
    "#             xd = frames.shape\n",
    "extractor = FeatureExtractor(generate_model('../models/trn_rgb.ckpt'), device, dtype)\n",
    "extractor.extract(rgb_train, feature_writer)"
   ]
  },
  {
   "cell_type": "code",
   "execution_count": null,
   "metadata": {},
   "outputs": [],
   "source": [
    "with open('p01_01_chunk_1_features.pkl', 'wb') as f:\n",
    "  pickle.dump(output, f)"
   ]
  },
  {
   "cell_type": "code",
   "execution_count": 48,
   "metadata": {},
   "outputs": [
    {
     "data": {
      "text/plain": [
       "(21794, 256)"
      ]
     },
     "execution_count": 48,
     "metadata": {},
     "output_type": "execute_result"
    }
   ],
   "source": [
    "# features1 = features_and_meta['features']\n",
    "\n",
    "# import cProfile\n",
    "\n",
    "# def numpy_concat(x):\n",
    "#     np.concatenate(x)\n",
    "\n",
    "# cProfile.run('numpy_concat(features1)')\n",
    "\n",
    "# allow = np.concatenate(features_and_meta['features'])\n",
    "\n",
    "allow = np.concatenate(feature_writer.features)\n",
    "\n",
    "allow.shape"
   ]
  },
  {
   "cell_type": "code",
   "execution_count": 11,
   "metadata": {},
   "outputs": [
    {
     "data": {
      "text/plain": [
       "'195'"
      ]
     },
     "execution_count": 11,
     "metadata": {},
     "output_type": "execute_result"
    }
   ],
   "source": [
    "\n",
    "features0 = features_and_meta['metadata']\n",
    "\n",
    "f_1 = features0[0:8]\n",
    "\n",
    "start = f_1[7]\n",
    "start\n",
    "# rgb_train['P01_01_1'][1], \n",
    "allow[]"
   ]
  },
  {
   "cell_type": "code",
   "execution_count": 11,
   "metadata": {},
   "outputs": [
    {
     "ename": "TypeError",
     "evalue": "file must have 'read' and 'readline' attributes",
     "output_type": "error",
     "traceback": [
      "\u001b[0;31m---------------------------------------------------------------------------\u001b[0m",
      "\u001b[0;31mTypeError\u001b[0m                                 Traceback (most recent call last)",
      "\u001b[0;32m<ipython-input-11-f6cde6d95377>\u001b[0m in \u001b[0;36m<module>\u001b[0;34m\u001b[0m\n\u001b[0;32m----> 1\u001b[0;31m \u001b[0mrah\u001b[0m \u001b[0;34m=\u001b[0m \u001b[0mpickle\u001b[0m\u001b[0;34m.\u001b[0m\u001b[0mload\u001b[0m\u001b[0;34m(\u001b[0m\u001b[0;34m'../datasets/epic/features/p01_features.pkl'\u001b[0m\u001b[0;34m)\u001b[0m\u001b[0;34m\u001b[0m\u001b[0;34m\u001b[0m\u001b[0m\n\u001b[0m",
      "\u001b[0;31mTypeError\u001b[0m: file must have 'read' and 'readline' attributes"
     ]
    }
   ],
   "source": [
    "rah = pickle.load('../datasets/epic/features/p01_features.pkl')"
   ]
  },
  {
   "cell_type": "code",
   "execution_count": 14,
   "metadata": {},
   "outputs": [],
   "source": [
    "with open('../datasets/epic/features/p01_features.pkl', 'rb') as f:\n",
    "    rah = pickle.load(f)"
   ]
  },
  {
   "cell_type": "code",
   "execution_count": 16,
   "metadata": {},
   "outputs": [
    {
     "data": {
      "text/plain": [
       "(21794, 256)"
      ]
     },
     "execution_count": 16,
     "metadata": {},
     "output_type": "execute_result"
    }
   ],
   "source": [
    "rah['features'].shape"
   ]
  },
  {
   "cell_type": "code",
   "execution_count": null,
   "metadata": {},
   "outputs": [],
   "source": []
  }
 ],
 "metadata": {
  "kernelspec": {
   "display_name": "Python 3",
   "language": "python",
   "name": "python3"
  },
  "language_info": {
   "codemirror_mode": {
    "name": "ipython",
    "version": 3
   },
   "file_extension": ".py",
   "mimetype": "text/x-python",
   "name": "python",
   "nbconvert_exporter": "python",
   "pygments_lexer": "ipython3",
   "version": "3.8.5"
  }
 },
 "nbformat": 4,
 "nbformat_minor": 4
}
