{
 "cells": [
  {
   "cell_type": "code",
   "execution_count": 1,
   "metadata": {},
   "outputs": [],
   "source": [
    "from abc import ABC\n",
    "\n",
    "from gulpio2 import GulpDirectory\n",
    "from pathlib import Path\n",
    "from moviepy.editor import ImageSequenceClip, clips_array\n",
    "\n",
    "from collections import defaultdict\n",
    "\n",
    "import pickle\n",
    "import pandas as pd\n",
    "from pathlib import Path\n",
    "\n",
    "import torch as t\n",
    "import torch.nn as nn\n",
    "import numpy as np\n",
    "from omegaconf import OmegaConf\n",
    "from typing import Any, Dict, List, Sequence, Union\n",
    "\n",
    "from systems import EpicActionRecognitionSystem\n",
    "from systems import EpicActionRecogintionDataModule\n",
    "\n",
    "from utils.metrics import compute_metrics\n",
    "from utils.actions import action_id_from_verb_noun\n",
    "from scipy.special import softmax\n",
    "\n",
    "from GPUtil import showUtilization as gpu_usage\n",
    "from tqdm import tqdm"
   ]
  },
  {
   "cell_type": "code",
   "execution_count": 2,
   "metadata": {},
   "outputs": [
    {
     "data": {
      "text/plain": [
       "{'narration_id': 'P01_01_96',\n",
       " 'participant_id': 'P01',\n",
       " 'video_id': 'P01_01',\n",
       " 'narration_timestamp': '00:07:46.520',\n",
       " 'start_timestamp': '00:07:49.14',\n",
       " 'stop_timestamp': '00:07:50.32',\n",
       " 'start_frame': 28148,\n",
       " 'stop_frame': 28219,\n",
       " 'narration': 'take glass',\n",
       " 'verb': 'take',\n",
       " 'verb_class': 0,\n",
       " 'noun': 'glass',\n",
       " 'noun_class': 10,\n",
       " 'all_nouns': ['glass'],\n",
       " 'all_noun_classes': [10],\n",
       " 'frame_size': [256, 456, 3],\n",
       " 'num_frames': 72}"
      ]
     },
     "execution_count": 2,
     "metadata": {},
     "output_type": "execute_result"
    }
   ],
   "source": [
    "verb_noun_link = {}\n",
    "verb_class_link = {}\n",
    "\n",
    "verbs = pd.read_csv('../datasets/epic/labels/EPIC_100_verb_classes.csv')\n",
    "nouns = pd.read_csv('../datasets/epic/labels/EPIC_100_noun_classes.csv')\n",
    "\n",
    "\n",
    "rgb_train = GulpDirectory('../datasets/epic/gulp/rgb/p01_rgb_test/')\n",
    "\n",
    "_, meta = rgb_train['P01_01_96']\n",
    "\n",
    "# verbs['key'][meta['verb']]\n",
    "meta\n",
    "# verbs['key'][meta['verb_class']]\n",
    "\n",
    "# for i, c in enumerate(tqdm(rgb_train)):\n",
    "#     if i == 0:\n",
    "#         for _, meta in c:\n",
    "#             if meta['verb'] in verb_noun_link:\n",
    "#                 verb_noun_link[meta['verb']].append(meta['noun'])\n",
    "#             else:\n",
    "#                 verb_noun_link[meta['verb']] = [meta['noun']] \n",
    "#             if meta['verb_class'] in verb_class_link:\n",
    "#                 verb_class_link[meta['verb_class']].append(meta['noun_class'])\n",
    "#             else:\n",
    "#                 verb_class_link[meta['verb_class']] = [meta['noun_class']]"
   ]
  },
  {
   "cell_type": "code",
   "execution_count": 35,
   "metadata": {},
   "outputs": [
    {
     "data": {
      "text/plain": [
       "(['door',\n",
       "  'drawer',\n",
       "  'cupboard',\n",
       "  'container',\n",
       "  'drawer',\n",
       "  'drawer',\n",
       "  'fridge',\n",
       "  'cupboard',\n",
       "  'cupboard',\n",
       "  'salt',\n",
       "  'drawer',\n",
       "  'drawer',\n",
       "  'cupboard',\n",
       "  'rice'],\n",
       " ['door', 'drawer', 'cupboard', 'container', 'fridge', 'salt', 'rice'])"
      ]
     },
     "execution_count": 35,
     "metadata": {},
     "output_type": "execute_result"
    }
   ],
   "source": [
    "seen = set()\n",
    "verb_noun_unique = [x for x in verb_noun_link['open'] if not (x in seen or seen.add(x))]\n",
    "verb_noun_link['open'], verb_noun_unique\n",
    "\n",
    "# verb_class_link[3]\n",
    "\n",
    "# xd = list(set(verb_noun_link['take']))\n",
    "\n",
    "# with open('../datasets/epic/labels/verb_noun.pkl', 'wb') as f:\n",
    "#     pickle.dump(verb_noun_link, f)\n",
    "\n",
    "# with open('../datasets/epic/labels/verb_noun_unique.pkl', 'wb') as f:\n",
    "#     pickle.dump({verb: list(set(verb_noun_link[verb])) for verb in verb_noun_link.keys()} , f)\n"
   ]
  },
  {
   "cell_type": "code",
   "execution_count": 3,
   "metadata": {},
   "outputs": [],
   "source": [
    "with open('../datasets/epic/labels/verb_noun_unique.pkl', 'rb') as pkl:\n",
    "    verb_noun = pickle.load(pkl)\n",
    "    \n",
    "with open('../datasets/epic/labels/verb_noun_classes_unique.pkl', 'rb') as pkl:\n",
    "    verb_noun_classes = pickle.load(pkl)"
   ]
  },
  {
   "cell_type": "code",
   "execution_count": 8,
   "metadata": {},
   "outputs": [],
   "source": [
    "for k,j in zip(verb_noun.keys(), verb_noun_classes.keys()):\n",
    "    assert len(verb_noun[k]) == len(verb_noun_classes[j])"
   ]
  },
  {
   "cell_type": "code",
   "execution_count": 24,
   "metadata": {},
   "outputs": [],
   "source": [
    "v = 5\n",
    "\n",
    "def callback(verb_class):\n",
    "    \n",
    "    noun_list=verb_noun[list(verb_noun.keys())[verb_class]]\n",
    "    noun_class=verb_noun_classes[list(verb_noun_classes.keys())[verb_class]]\n",
    "    \n",
    "    assert len(noun_list) == len(noun_class)\n",
    "    \n",
    "    return [{'label':i, 'value':j} for i,j in zip(noun_list,noun_class)]"
   ]
  },
  {
   "cell_type": "code",
   "execution_count": 25,
   "metadata": {},
   "outputs": [
    {
     "data": {
      "text/plain": [
       "('close',\n",
       " [{'label': 'box', 'value': 3},\n",
       "  {'label': 'drawer', 'value': 6},\n",
       "  {'label': 'rosemary', 'value': 8},\n",
       "  {'label': 'freezer', 'value': 138},\n",
       "  {'label': 'jar', 'value': 12},\n",
       "  {'label': 'oregano', 'value': 15},\n",
       "  {'label': 'lid', 'value': 145},\n",
       "  {'label': 'powder', 'value': 19},\n",
       "  {'label': 'cupboard', 'value': 21},\n",
       "  {'label': 'bag', 'value': 22},\n",
       "  {'label': 'olive', 'value': 23},\n",
       "  {'label': 'cooker:slow', 'value': 152},\n",
       "  {'label': 'top', 'value': 277},\n",
       "  {'label': 'oven', 'value': 31},\n",
       "  {'label': 'milk', 'value': 36},\n",
       "  {'label': 'fridge', 'value': 38},\n",
       "  {'label': 'bin', 'value': 40},\n",
       "  {'label': 'bottle', 'value': 42},\n",
       "  {'label': 'oil', 'value': 44},\n",
       "  {'label': 'salt', 'value': 46},\n",
       "  {'label': 'liquid:washing', 'value': 64},\n",
       "  {'label': 'kettle', 'value': 83},\n",
       "  {'label': 'container', 'value': 113}])"
      ]
     },
     "execution_count": 25,
     "metadata": {},
     "output_type": "execute_result"
    }
   ],
   "source": [
    "list(verb_.keys())[v], callback(v)"
   ]
  },
  {
   "cell_type": "code",
   "execution_count": 12,
   "metadata": {},
   "outputs": [],
   "source": [
    "with open('../datasets/epic/labels/verb_noun_unique.pkl', 'rb') as pkl:\n",
    "    vn = pickle.load(pkl)\n",
    "\n",
    "with open('../datasets/epic/labels/verb_noun_classes_unique.pkl', 'rb') as pkl:\n",
    "    vnn = pickle.load(pkl)"
   ]
  },
  {
   "cell_type": "code",
   "execution_count": 26,
   "metadata": {},
   "outputs": [
    {
     "data": {
      "text/plain": [
       "array([['box', '1'],\n",
       "       ['dough', '2'],\n",
       "       ['sauce', '3'],\n",
       "       ['beer', '4'],\n",
       "       ['yeast', '5'],\n",
       "       ['candle', '6'],\n",
       "       ['glass', '7'],\n",
       "       ['powder', '8'],\n",
       "       ['spatula', '9'],\n",
       "       ['tray', '10'],\n",
       "       ['onion', '13'],\n",
       "       ['rice', '14'],\n",
       "       ['lighter', '15'],\n",
       "       ['olive', '16'],\n",
       "       ['pepper', '17'],\n",
       "       ['milk', '18'],\n",
       "       ['lettuce', '19'],\n",
       "       ['fruit', '20'],\n",
       "       ['egg', '21'],\n",
       "       ['salt', '22'],\n",
       "       ['courgette', '23'],\n",
       "       ['tongs', '24'],\n",
       "       ['celery', '25'],\n",
       "       ['choi:pak', '26'],\n",
       "       ['maker:coffee', '29'],\n",
       "       ['aubergine', '30'],\n",
       "       ['towel', '31'],\n",
       "       ['cup', '32'],\n",
       "       ['cutlery', '33'],\n",
       "       ['knife', '34'],\n",
       "       ['noodle', '35'],\n",
       "       ['clip', '36'],\n",
       "       ['plate', '37'],\n",
       "       ['clothes', '38'],\n",
       "       ['bag', '39'],\n",
       "       ['bread', '41'],\n",
       "       ['leaf', '43'],\n",
       "       ['scissors', '44'],\n",
       "       ['floor', '47'],\n",
       "       ['bowl', '48'],\n",
       "       ['stock', '49'],\n",
       "       ['garlic', '50'],\n",
       "       ['tomato', '51'],\n",
       "       ['grater', '52'],\n",
       "       ['towel:kitchen', '53'],\n",
       "       ['chopstick', '55'],\n",
       "       ['ladle', '56'],\n",
       "       ['mat', '58'],\n",
       "       ['cheese', '61'],\n",
       "       ['fork', '62'],\n",
       "       ['can', '64'],\n",
       "       ['coriander', '67'],\n",
       "       ['pan', '73'],\n",
       "       ['mushroom', '75'],\n",
       "       ['board:chopping', '76'],\n",
       "       ['food', '79'],\n",
       "       ['rosemary', '80'],\n",
       "       ['alarm', '81'],\n",
       "       ['carrot', '83'],\n",
       "       ['spoon', '84'],\n",
       "       ['rack:drying', '86'],\n",
       "       ['peeler:potato', '87'],\n",
       "       ['pizza', '91'],\n",
       "       ['backpack', '93'],\n",
       "       ['cooker:slow', '95'],\n",
       "       ['cloth', '96'],\n",
       "       ['bottle', '97'],\n",
       "       ['potato', '99'],\n",
       "       ['sausage', '100'],\n",
       "       ['liquid:washing', '110'],\n",
       "       ['kettle', '111'],\n",
       "       ['book', '116'],\n",
       "       ['package', '120'],\n",
       "       ['drawer', '123'],\n",
       "       ['wrap:plastic', '129'],\n",
       "       ['bar', '130'],\n",
       "       ['foil', '133'],\n",
       "       ['flour', '136'],\n",
       "       ['oregano', '138'],\n",
       "       ['tofu', '140'],\n",
       "       ['colander', '142'],\n",
       "       ['lid', '145'],\n",
       "       ['skin', '151'],\n",
       "       ['cupboard', '152'],\n",
       "       ['pin:rolling', '155'],\n",
       "       ['wire', '159'],\n",
       "       ['nut', '173'],\n",
       "       ['cereal', '195'],\n",
       "       ['sponge', '201'],\n",
       "       ['squash', '204'],\n",
       "       ['bin', '223'],\n",
       "       ['oil', '231'],\n",
       "       ['hob', '235'],\n",
       "       ['paper', '254'],\n",
       "       ['basil', '265'],\n",
       "       ['pot', '277'],\n",
       "       ['container', '280']], dtype='<U14')"
      ]
     },
     "execution_count": 26,
     "metadata": {},
     "output_type": "execute_result"
    }
   ],
   "source": [
    "np.array((vn['take'], vnn[0])).T\n"
   ]
  },
  {
   "cell_type": "code",
   "execution_count": 4,
   "metadata": {},
   "outputs": [
    {
     "data": {
      "text/plain": [
       "1210"
      ]
     },
     "execution_count": 4,
     "metadata": {},
     "output_type": "execute_result"
    }
   ],
   "source": [
    "with open('../datasets/epic/features/p01_features.pkl','rb') as f:\n",
    "    features = pickle.load(f)\n",
    "    \n",
    "features['narration_id'].index('P01_01_289')"
   ]
  },
  {
   "cell_type": "code",
   "execution_count": 5,
   "metadata": {},
   "outputs": [
    {
     "data": {
      "text/plain": [
       "{'narration_id': 'P01_01_289',\n",
       " 'participant_id': 'P01',\n",
       " 'video_id': 'P01_01',\n",
       " 'narration_timestamp': '00:23:56.100',\n",
       " 'start_timestamp': '00:23:57.14',\n",
       " 'stop_timestamp': '00:23:57.82',\n",
       " 'start_frame': 86228,\n",
       " 'stop_frame': 86269,\n",
       " 'narration': 'take curry powder',\n",
       " 'verb': 'take',\n",
       " 'verb_class': 0,\n",
       " 'noun': 'powder:curry',\n",
       " 'noun_class': 138,\n",
       " 'all_nouns': ['powder:curry'],\n",
       " 'all_noun_classes': [138],\n",
       " 'frame_size': [256, 456, 3],\n",
       " 'num_frames': 42}"
      ]
     },
     "execution_count": 5,
     "metadata": {},
     "output_type": "execute_result"
    }
   ],
   "source": [
    "features['labels'][1210]"
   ]
  },
  {
   "cell_type": "code",
   "execution_count": null,
   "metadata": {},
   "outputs": [],
   "source": []
  }
 ],
 "metadata": {
  "kernelspec": {
   "display_name": "Python 3",
   "language": "python",
   "name": "python3"
  },
  "language_info": {
   "codemirror_mode": {
    "name": "ipython",
    "version": 3
   },
   "file_extension": ".py",
   "mimetype": "text/x-python",
   "name": "python",
   "nbconvert_exporter": "python",
   "pygments_lexer": "ipython3",
   "version": "3.8.5"
  }
 },
 "nbformat": 4,
 "nbformat_minor": 4
}
